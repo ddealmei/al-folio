{
 "cells": [
  {
   "cell_type": "markdown",
   "metadata": {},
   "source": [
    "# Exercice 1"
   ]
  },
  {
   "cell_type": "markdown",
   "metadata": {},
   "source": [
    "*Tu aurais pu définir x unquement sur les réels, mais pour avoir les racines, il aurait fallut définir le polynome en indiquant exprésemment la multiplication*"
   ]
  },
  {
   "cell_type": "code",
   "execution_count": 1,
   "metadata": {},
   "outputs": [],
   "source": [
    "P.<x> = PolynomialRing(CC)"
   ]
  },
  {
   "cell_type": "code",
   "execution_count": 7,
   "metadata": {},
   "outputs": [],
   "source": [
    "pol = (x^2 + 5)(x^2 - 7)"
   ]
  },
  {
   "cell_type": "code",
   "execution_count": 8,
   "metadata": {},
   "outputs": [
    {
     "name": "stdout",
     "output_type": "stream",
     "text": [
      "x^4 - 2.00000000000000*x^2 - 35.0000000000000\n"
     ]
    }
   ],
   "source": [
    "print(pol)"
   ]
  },
  {
   "cell_type": "code",
   "execution_count": 9,
   "metadata": {},
   "outputs": [
    {
     "name": "stdout",
     "output_type": "stream",
     "text": [
      "540.000000000000\n"
     ]
    }
   ],
   "source": [
    "print(pol(5))"
   ]
  },
  {
   "cell_type": "code",
   "execution_count": 10,
   "metadata": {},
   "outputs": [
    {
     "name": "stdout",
     "output_type": "stream",
     "text": [
      "[(-2.64575131106459, 1), (2.64575131106459, 1)]\n"
     ]
    }
   ],
   "source": [
    "print(pol.roots())"
   ]
  },
  {
   "cell_type": "code",
   "execution_count": 6,
   "metadata": {},
   "outputs": [],
   "source": [
    "def fact_it(n):\n",
    "    p = 1\n",
    "    for k in range(2, n+1):\n",
    "        p *= k\n",
    "    return p"
   ]
  },
  {
   "cell_type": "code",
   "execution_count": 7,
   "metadata": {},
   "outputs": [],
   "source": [
    "def fact_rec(n):\n",
    "    if n <= 1:\n",
    "        return 1\n",
    "    else:\n",
    "        return n * fact_rec(n-1)"
   ]
  },
  {
   "cell_type": "code",
   "execution_count": 8,
   "metadata": {},
   "outputs": [
    {
     "name": "stdout",
     "output_type": "stream",
     "text": [
      "625 loops, best of 3: 11.7 μs per loop\n",
      "625 loops, best of 3: 10.9 μs per loop\n",
      "625 loops, best of 3: 1.38 μs per loop\n",
      "625 loops, best of 3: 184 μs per loop\n",
      "625 loops, best of 3: 208 μs per loop\n",
      "625 loops, best of 3: 2.5 μs per loop\n"
     ]
    }
   ],
   "source": [
    "for n in [20, 250]:\n",
    "    for f in [fact_it, fact_rec, factorial]:\n",
    "        print(timeit(\"f(n)\"))"
   ]
  },
  {
   "cell_type": "code",
   "execution_count": 9,
   "metadata": {},
   "outputs": [],
   "source": [
    "l1 = []\n",
    "for n in range(2, 1000):\n",
    "    if is_prime(n):\n",
    "        l1.append(n)"
   ]
  },
  {
   "cell_type": "code",
   "execution_count": 10,
   "metadata": {},
   "outputs": [],
   "source": [
    "l2 = list(filter(is_prime, range(2, 1000)))"
   ]
  },
  {
   "cell_type": "code",
   "execution_count": 11,
   "metadata": {},
   "outputs": [],
   "source": [
    "l3 = []\n",
    "n = 2\n",
    "while n < 1000:\n",
    "    l3.append(n)\n",
    "    n = next_prime(n)"
   ]
  },
  {
   "cell_type": "code",
   "execution_count": 12,
   "metadata": {},
   "outputs": [
    {
     "data": {
      "text/plain": [
       "True"
      ]
     },
     "execution_count": 12,
     "metadata": {},
     "output_type": "execute_result"
    }
   ],
   "source": [
    "l1 == l2 == l3"
   ]
  },
  {
   "cell_type": "code",
   "execution_count": 13,
   "metadata": {},
   "outputs": [],
   "source": [
    "f = x^2 - 3*x + 2"
   ]
  },
  {
   "cell_type": "code",
   "execution_count": 14,
   "metadata": {},
   "outputs": [
    {
     "data": {
      "image/png": "[encoded data removed]",
      "text/plain": [
       "Graphics object consisting of 1 graphics primitive"
      ]
     },
     "execution_count": 14,
     "metadata": {},
     "output_type": "execute_result"
    }
   ],
   "source": [
    "plot(f, xmin=-20, xmax=20)"
   ]
  },
  {
   "cell_type": "markdown",
   "metadata": {},
   "source": [
    "# Exercice 2"
   ]
  },
  {
   "cell_type": "markdown",
   "metadata": {},
   "source": [
    "Pour le calcul de $\\pi(x)$, on utilise le crible d'Eratosthène afin de déterminer rapidement la liste des nombres premiers inférieurs à $x$."
   ]
  },
  {
   "cell_type": "code",
   "execution_count": 15,
   "metadata": {},
   "outputs": [],
   "source": [
    "def sieve(n):\n",
    "    prime = [False, False] + [True] * (n-1)\n",
    "    for k in range(2, n+1):\n",
    "        if prime[k]:\n",
    "            for i in range(k*k, n+1, k):\n",
    "                prime[i] = False\n",
    "    return prime"
   ]
  },
  {
   "cell_type": "code",
   "execution_count": 16,
   "metadata": {},
   "outputs": [],
   "source": [
    "def pi(x):\n",
    "    n = int(x)\n",
    "    prime = sieve(n)\n",
    "    c = 0\n",
    "    for b in prime:\n",
    "        if b:\n",
    "            c += 1\n",
    "    return c"
   ]
  },
  {
   "cell_type": "code",
   "execution_count": 17,
   "metadata": {},
   "outputs": [
    {
     "name": "stdout",
     "output_type": "stream",
     "text": [
      "625 loops, best of 3: 51.7 μs per loop\n",
      "625 loops, best of 3: 12.5 μs per loop\n",
      "625 loops, best of 3: 361 μs per loop\n",
      "625 loops, best of 3: 12.6 μs per loop\n"
     ]
    }
   ],
   "source": [
    "for n in [100, 1000]:\n",
    "    for f in [pi, prime_pi]:\n",
    "        print(timeit(\"f(n)\"))"
   ]
  },
  {
   "cell_type": "code",
   "execution_count": 18,
   "metadata": {},
   "outputs": [],
   "source": [
    "def lower_approx_pi(x):\n",
    "    assert x > 1\n",
    "    return 0.9 * x / log(x)"
   ]
  },
  {
   "cell_type": "code",
   "execution_count": 19,
   "metadata": {},
   "outputs": [],
   "source": [
    "def upper_approx_pi(x):\n",
    "    assert x > 1\n",
    "    return 1.2 * x / log(x)"
   ]
  },
  {
   "cell_type": "code",
   "execution_count": 20,
   "metadata": {},
   "outputs": [],
   "source": [
    "def Li(x, step=1000):\n",
    "    y = x\n",
    "    h = (x - 2) / step\n",
    "    s = 0\n",
    "    while y < x:\n",
    "        s += 1 / log(y)\n",
    "        y += h\n",
    "    return s"
   ]
  },
  {
   "cell_type": "code",
   "execution_count": 21,
   "metadata": {},
   "outputs": [
    {
     "data": {
      "image/png": "[encoded data removed]",
      "text/plain": [
       "Graphics object consisting of 3 graphics primitives"
      ]
     },
     "execution_count": 21,
     "metadata": {},
     "output_type": "execute_result"
    }
   ],
   "source": [
    "plot([prime_pi, lower_approx_pi, upper_approx_pi], xmin=2, xmax=1000)"
   ]
  },
  {
   "cell_type": "code",
   "execution_count": 22,
   "metadata": {},
   "outputs": [
    {
     "data": {
      "image/png": "[encoded data removed]",
      "text/plain": [
       "Graphics object consisting of 3 graphics primitives"
      ]
     },
     "execution_count": 22,
     "metadata": {},
     "output_type": "execute_result"
    }
   ],
   "source": [
    "plot([prime_pi, lower_approx_pi, upper_approx_pi], xmin=2, xmax=10**7)"
   ]
  },
  {
   "cell_type": "markdown",
   "metadata": {},
   "source": [
    "# Exercice 3"
   ]
  },
  {
   "cell_type": "code",
   "execution_count": 23,
   "metadata": {},
   "outputs": [],
   "source": [
    "def euclide_etendu(a, b):\n",
    "    coef = []\n",
    "    while b != 0:\n",
    "        coef.append(a//b)\n",
    "        a, b = b, a%b\n",
    "    d = a\n",
    "    coef.pop()\n",
    "    u = 1\n",
    "    v = -coef.pop()\n",
    "    while coef:\n",
    "        u, v = v, u - v*coef.pop()\n",
    "    return d, u, v"
   ]
  },
  {
   "cell_type": "markdown",
   "metadata": {},
   "source": [
    "## Explications :\n",
    "\n",
    "L'algorithme d'Euclide nous donne les équations de la forme suivante :\n",
    "$$a_{n-1} = c_n.a_n + a_{n+1}$$\n",
    "On stocke les $c_n$ dans le tableau coef, puis on calcule $u_n$ et $v_n$ qui vérifient :\n",
    "$$d = u_n.a_n + v_n.a_{n+1}$$\n",
    "Puisque $v_n.a_{n+1} = v_n.(a_{n-1} - c_n.a_n)$, on a donc :\n",
    "$$d = v_n.a_{n-1} + (u_n - v_n.c_n).a_n$$"
   ]
  },
  {
   "cell_type": "code",
   "execution_count": 24,
   "metadata": {},
   "outputs": [
    {
     "name": "stdout",
     "output_type": "stream",
     "text": [
      "18 = -1 * 252 + 3 * 90\n"
     ]
    }
   ],
   "source": [
    "a, b = 252, 90\n",
    "d, u, v = euclide_etendu(a, b)\n",
    "print(f\"{d} = {u} * {a} + {v} * {b}\")"
   ]
  },
  {
   "cell_type": "markdown",
   "metadata": {},
   "source": [
    "# Exercice 4"
   ]
  },
  {
   "cell_type": "code",
   "execution_count": 25,
   "metadata": {},
   "outputs": [
    {
     "data": {
      "text/plain": [
       "59"
      ]
     },
     "execution_count": 25,
     "metadata": {},
     "output_type": "execute_result"
    }
   ],
   "source": [
    "crt(3, 4, 7, 11)"
   ]
  },
  {
   "cell_type": "markdown",
   "metadata": {},
   "source": [
    "# Exercice 5"
   ]
  },
  {
   "cell_type": "markdown",
   "metadata": {},
   "source": [
    "D'après le petit théorème de Fermat,\n",
    "$$a^{p-1} \\equiv 1 \\mod p$$\n",
    "donc\n",
    "$$a^{-1} \\equiv a^{p-2} \\mod p$$\n",
    "Pour calculer l'inverse de $a$, on peut donc effectuer une exponentiation rapide."
   ]
  },
  {
   "cell_type": "code",
   "execution_count": 26,
   "metadata": {},
   "outputs": [],
   "source": [
    "def expo_mod(a, n, p):\n",
    "    if n == 0:\n",
    "        return 1\n",
    "    else:\n",
    "        b = expo_mod(a, n//2, p)\n",
    "        if n % 2 == 0:\n",
    "            return (b * b) % p\n",
    "        else:\n",
    "            return (a * b * b) % p"
   ]
  },
  {
   "cell_type": "code",
   "execution_count": 27,
   "metadata": {},
   "outputs": [],
   "source": [
    "def inv_mod(a, p):\n",
    "    return expo_mod(a, p-2, p)"
   ]
  },
  {
   "cell_type": "code",
   "execution_count": 28,
   "metadata": {},
   "outputs": [
    {
     "data": {
      "text/plain": [
       "4"
      ]
     },
     "execution_count": 28,
     "metadata": {},
     "output_type": "execute_result"
    }
   ],
   "source": [
    "inv_mod(3, 11)"
   ]
  },
  {
   "cell_type": "markdown",
   "metadata": {},
   "source": [
    "# Exercice 6"
   ]
  },
  {
   "cell_type": "markdown",
   "metadata": {},
   "source": [
    "$$c^d = m^{ed} = m^{1+k.\\varphi(n)} = m.m^{k(p-1)(q-1)}$$\n",
    "Or d'après le petit théorème de Fermat,\n",
    "$$m^{k(p-1)(q-1)} = (m^{p-1})^{k(q-1)} \\equiv 1 \\mod p$$\n",
    "$$m^{k(p-1)(q-1)} = (m^{q-1})^{k(p-1)} \\equiv 1 \\mod q$$\n",
    "donc d'après le théorème des restes chinois,\n",
    "$$m^{k(p-1)(q-1)} \\equiv 1 \\mod n$$\n",
    "et par conséquent\n",
    "$$c^d \\equiv m \\mod n$$"
   ]
  },
  {
   "cell_type": "code",
   "execution_count": 29,
   "metadata": {},
   "outputs": [],
   "source": [
    "def gen_keys(l):\n",
    "    p = random_prime(2**(l//2))\n",
    "    q = random_prime(2**l//p-1, lbound=2**(l-1)//p+1)\n",
    "    n = p * q\n",
    "    phi = (p-1) * (q-1)\n",
    "    e = 2**16 + 1\n",
    "    _, u, _ = euclide_etendu(e, phi)\n",
    "    d = u % phi\n",
    "    return e, d, n"
   ]
  },
  {
   "cell_type": "code",
   "execution_count": 30,
   "metadata": {},
   "outputs": [],
   "source": [
    "def chiffrer(m, n, e):\n",
    "    return expo_mod(m, e, n)"
   ]
  },
  {
   "cell_type": "code",
   "execution_count": 31,
   "metadata": {},
   "outputs": [],
   "source": [
    "def dechiffrer(c, n, d):\n",
    "    return expo_mod(c, d, n)"
   ]
  },
  {
   "cell_type": "code",
   "execution_count": 32,
   "metadata": {},
   "outputs": [],
   "source": [
    "e, d, n = gen_keys(20)"
   ]
  },
  {
   "cell_type": "code",
   "execution_count": 33,
   "metadata": {},
   "outputs": [
    {
     "data": {
      "text/plain": [
       "1337"
      ]
     },
     "execution_count": 33,
     "metadata": {},
     "output_type": "execute_result"
    }
   ],
   "source": [
    "m = 1337\n",
    "c = chiffrer(1337, n, e)\n",
    "dechiffrer(c, n, d)"
   ]
  },
  {
   "cell_type": "code",
   "execution_count": 34,
   "metadata": {},
   "outputs": [],
   "source": [
    "from binascii import unhexlify"
   ]
  },
  {
   "cell_type": "code",
   "execution_count": 35,
   "metadata": {},
   "outputs": [],
   "source": [
    "def int_to_ascii(x):\n",
    "    return unhexlify(hex(x)[2:])"
   ]
  },
  {
   "cell_type": "code",
   "execution_count": 36,
   "metadata": {},
   "outputs": [],
   "source": [
    "e = 3\n",
    "n1 = 0x17AAF8945BC88451395E9E08698280278F9C853BE42E628D3CA4A4F2DDCA9B5A3A84ACDC97A434CD5093E7DCB46278C214DBE291F5839CFAE8BEEA38F0261F7BEFDE3343065C20BD7A7B7627126D0AE281EDC9198459A6AC782A8C8517774A4EFCB5189E7B72B0BC4CF33C14CA8BB36152C83FC5F11E5F58A06D28B0BA616EB2618DBF6489192533E667DBCAD2BA3F0658429F16E1265EDCB38D1FF1ECD444FF777291B083A0D1AFFEC042071A763753CD4EDDFEA011F35B2578BD0AE353296B7A3AA465204BBC33F9AE8635B9857AF42385B23CA11AD1F5C37FF53FFA62BE636195291F4EEC17290F7029D073F6F69A080DF47C0940108A264CC1AFDD929D1\n",
    "n2 = 0xE6D0C7AFD432049DA47DFA9148197A3A8C9E2BFAD5F67FA9719FA11D44E56820AFDD0E9D1461E85D282B80303F9B5A212E94D16BE6C133876683F70ED527AA3778B347BD6822D01BAB21BE7792D1D3F1D7B0A325C863001740A271461A5CF7C11F1EE1D297AEB57AA4F0DA5B7931A79061954B7CC452E1DBA42832272F250D47C5B7F9483CF98BA9DC72F7C7CA32391A242B1A6E41338776F799B98740AA9E51BDDD7CDCB61CFBD116A5B47AED9B2049F385164B57718A720601C6F74EC2FD860B04F27765E6435CB5DF088AE330C84412083A213FA47A5276EB3B18B7C72FBD280161CA1B14A377240537268833502D3068424C7C54901BF685A05AAFE95AB\n",
    "n3 = 0x22DAFE33239EEC9AE9EC2FCCA37454E713BFD17B21953327CBE8B2A12D73566A9BEB4A8C8597DB8E5AC2EF2F47F2122C2443329C6ABB6F27D7B169B5D51BC0AC61D54DA76CC5871A65F8E75E40C4C8EF2D9F949A61DB7C9BC5FD90E6D422990266B16C404F3D3DFB71854964BEB53AADCDC2AA5741A01BB2A5F676722899A3557207D59C6079138DD43C394CA0EE268D182278F89E1C9682A8532AFC89F29BD2AF8DB91227815DBD9FB4267B3E98FA5C695852CE51BC317A9599A022FD89590BBA634949B1338C63D2D2D26158656171863A80FA4840AEFC2CBB77933CFA41F41358B5391453F3414B6E8F716B035014AE87F40EB680AEE149727165F3111CA7\n",
    "c1 = 0x64B0FE03562FF5D8DE1102B18029867F6558713BD8FB6E4503DADF88B5BF877453020F9CEC646661326E62088C247C62C8EF206EA3E3A3E11210712556F8A42E05D7C506818B41D63EA4D95FDA052FFF5082D48FF2FCDBE2419E7740BE1D9300E952B59E70D0EF38608A958A49DBF2696597059F9FF7523C4C2CEEA3A9B5405560CAD2C9ABEB64FB76388E61E36A54FE73F2156A180B6F1D3CAE53FD0D078BDC3B58D26E55869CA55E2F229649A3729BEBF034793C04B796C3F77B9F82CD42B4C85E8585FEB5A2CBE24BA9C64BC1AFE5537B99A33D4E9BD872F3FE2AD548F072FBF4E793223E8A87C7A7498D79D77366D6E69CE24AE75EAA7B3370F440483E\n",
    "c2 = 0xB183624744E81342831D23451AF124FB6EAD253EA803FD801A168FE8777F456B2D50903ED952C93A5E00DEE41221647D7D9F7DC317818D9B33C6BFD8DE9C070311E36221A1EABB1482E480666BB90DCD8A2822485C83F4E2ABBF0794BFD21C03FA690BD827FEEA8E2C04E1AE691A5153BEAD0A998E374CE8817C46BA054469AC81B162D1978D9268A48BFA1F76737D242FF5CFF8EC78D6AE3F8B45E47229F147B72742AB700034D7DFB7748EB468228CD77307376C0475D581424CB55DB3265C9202BFC666B976E26954200C4610956AE61E2C13A1D64B90C2AD3EF16FECEC65BEFED267D1B55D96DB1373E483EC3142A6FBFDF8024CF55FA1D9E1E7907AB5C\n",
    "c3 = 0x12BE178D714C80D9A58DD9CC9CFB5803AC7CB8A8226F7E8301801C1A8D72CBFFC347999FB62FC392B42AEF860F9AA3E7DCD6DC512898C396545F00938BFB6E27AF07B81411A70DDF8942F2F7D7E3B7EB3D364D8E622BE8934FFA9C8F296794D6C4041990DE5A77AA6008C0950E513450028CC7E1BCD6CB5B8E1AFBED177202703908CEFAE56256370B9076AFEFC810E09D81C8348D5B7829DF0FC40E5BF58243B95BB67DF9E4B36C544BBFFF26D96EC020A5D24BD170EC87079226DE094B9B95D6ECF38217CAA019E6A4E5BB492CE2503A7E0D1BB7D63A7DD5AE26FB8BDF332185E1768AE54D5F15506F09D6FDF7C665E0B83FB8A7EF7B773A94BEBB7193DA03"
   ]
  },
  {
   "cell_type": "code",
   "execution_count": 37,
   "metadata": {},
   "outputs": [],
   "source": [
    "def break_message(e, N, C):\n",
    "    i = 0\n",
    "    while i < e and gcd(N[i-1], C[i]) == 1:\n",
    "        i += 1\n",
    "    if i < e:\n",
    "        print(\"I found a prime factor!\")\n",
    "        p = gcd(N[i-1], N[i])\n",
    "        q = N[i] // p\n",
    "        phi = (p-1) * (q-1)\n",
    "        _, u, _ = euclide_etendu(e, phi)\n",
    "        d = u % n[i]\n",
    "        m = dechiffrer(c[i], n[i], d)\n",
    "    else:\n",
    "        print(\"Let's use the Chinese remainder theorem!\")\n",
    "        c = C[0]\n",
    "        n = N[0]\n",
    "        for i in range(1, e):\n",
    "            c = crt(c, C[i], n, N[i])\n",
    "            n *= N[i]\n",
    "        m = int(c**(1/3))\n",
    "    return m"
   ]
  },
  {
   "cell_type": "markdown",
   "metadata": {},
   "source": [
    "## Explications :\n",
    "\n",
    "La première partie du programme vise à chercher un éventuel diviseur commun entre les $n_i$.\n",
    "Si on trouve un diviseur autre que 1, il s'agit nécéssairement d'un facteur premier commun à deux $n_i$.\n",
    "Dans ce cas, c'est gagné puisqu'on peut recalculer la clé secrète à partir du couple $p,q$.\n",
    "\n",
    "Dans le cas contraire, tous les $n_i$ sont premiers entre eux, on a donc le système\n",
    "$$c_1 = m^3 \\mod n_1$$\n",
    "$$c_2 = m^3 \\mod n_2$$\n",
    "$$c_3 = m^3 \\mod n_3$$\n",
    "Grâce à l'isomorphisme du théorème des restes chinois, on peut donc calculer\n",
    "$$\\tilde{c} = m^3 \\mod n_1 n_2 n_3$$\n",
    "Mais on sait que pour conserver toute l'information, on a nécessairement\n",
    "$$\\forall i, m < n_i$$\n",
    "En particulier, $m^3 < n_1 n_2 n_3$, d'où\n",
    "$$\\tilde{c} = m^3$$\n",
    "Par conséquent\n",
    "$$m = \\tilde{c}^{\\frac{1}{3}}$$"
   ]
  },
  {
   "cell_type": "code",
   "execution_count": 38,
   "metadata": {},
   "outputs": [
    {
     "name": "stdout",
     "output_type": "stream",
     "text": [
      "Let's use the Chinese remainder theorem!\n"
     ]
    }
   ],
   "source": [
    "m = break_message(e, [n1, n2, n3], [c1, c2, c3])"
   ]
  },
  {
   "cell_type": "code",
   "execution_count": 39,
   "metadata": {},
   "outputs": [
    {
     "data": {
      "text/plain": [
       "b'Nice work, you are done for today! This is why we avoid using too small exponents, such as e = 3, even with a long enough padding. You will often (almost always) see e = 65537 since it offers a nice performance/security trade-off.'"
      ]
     },
     "execution_count": 39,
     "metadata": {},
     "output_type": "execute_result"
    }
   ],
   "source": [
    "int_to_ascii(m)"
   ]
  },
  {
   "cell_type": "code",
   "execution_count": null,
   "metadata": {},
   "outputs": [],
   "source": []
  }
 ],
 "metadata": {
  "kernelspec": {
   "display_name": "SageMath 9.0",
   "language": "sage",
   "name": "sagemath"
  },
  "language_info": {
   "codemirror_mode": {
    "name": "ipython",
    "version": 3
   },
   "file_extension": ".py",
   "mimetype": "text/x-python",
   "name": "python",
   "nbconvert_exporter": "python",
   "pygments_lexer": "ipython3",
   "version": "3.8.5"
  }
 },
 "nbformat": 4,
 "nbformat_minor": 4
}
